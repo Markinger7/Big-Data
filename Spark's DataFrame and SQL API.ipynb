{
 "cells": [
  {
   "cell_type": "markdown",
   "metadata": {},
   "source": [
    "## Dataframe and SQL API in Spark\n",
    "\n",
    "This notebook will use Spark in local mode to demonstarate spark's DataFrame and SQL API. I will use a dataset provided by Udacity, which can be found in the free Spark course. It contains the log data from the fictional music streaming service 'sparkify'. "
   ]
  },
  {
   "cell_type": "code",
   "execution_count": 90,
   "metadata": {},
   "outputs": [],
   "source": [
    "# imports\n",
    "from pyspark.sql import SparkSession\n",
    "from pyspark.sql.functions import udf, desc, asc # udf: user defined finctions\n",
    "from pyspark.sql.functions import isnan, count, when, col, sort_array, avg\n",
    "from pyspark.sql.functions import sum as Fsum # new name because of basic python sum function \n",
    "from pyspark.sql.types import StringType, IntegerType\n",
    "\n",
    "import datetime as dt\n",
    "\n",
    "import numpy as np\n",
    "import pandas as pd\n",
    "%matplotlib inline\n",
    "import matplotlib.pyplot as plt"
   ]
  },
  {
   "cell_type": "markdown",
   "metadata": {},
   "source": [
    "First we will create a SparSession, because it allows us to use the DataFame and SQL API from Spark "
   ]
  },
  {
   "cell_type": "code",
   "execution_count": 6,
   "metadata": {},
   "outputs": [],
   "source": [
    "spark = SparkSession\\\n",
    "    .builder\\\n",
    "    .appName(\"Data Wrangling with Spark\")\\\n",
    "    .getOrCreate()"
   ]
  },
  {
   "cell_type": "markdown",
   "metadata": {},
   "source": [
    "#### get informtion about the SparkSession"
   ]
  },
  {
   "cell_type": "code",
   "execution_count": 7,
   "metadata": {},
   "outputs": [
    {
     "data": {
      "text/plain": [
       "[('spark.driver.host', 'markus-mbp'),\n",
       " ('spark.driver.port', '56770'),\n",
       " ('spark.app.id', 'local-1588835762415'),\n",
       " ('spark.rdd.compress', 'True'),\n",
       " ('spark.serializer.objectStreamReset', '100'),\n",
       " ('spark.master', 'local[*]'),\n",
       " ('spark.executor.id', 'driver'),\n",
       " ('spark.submit.deployMode', 'client'),\n",
       " ('spark.ui.showConsoleProgress', 'true'),\n",
       " ('spark.app.name', 'Data Wrangling with Spark')]"
      ]
     },
     "execution_count": 7,
     "metadata": {},
     "output_type": "execute_result"
    }
   ],
   "source": [
    "spark.sparkContext.getConf().getAll()"
   ]
  },
  {
   "cell_type": "code",
   "execution_count": 8,
   "metadata": {},
   "outputs": [
    {
     "data": {
      "text/html": [
       "\n",
       "            <div>\n",
       "                <p><b>SparkSession - in-memory</b></p>\n",
       "                \n",
       "        <div>\n",
       "            <p><b>SparkContext</b></p>\n",
       "\n",
       "            <p><a href=\"http://markus-mbp:4044\">Spark UI</a></p>\n",
       "\n",
       "            <dl>\n",
       "              <dt>Version</dt>\n",
       "                <dd><code>v2.4.4</code></dd>\n",
       "              <dt>Master</dt>\n",
       "                <dd><code>local[*]</code></dd>\n",
       "              <dt>AppName</dt>\n",
       "                <dd><code>Data Wrangling with Spark</code></dd>\n",
       "            </dl>\n",
       "        </div>\n",
       "        \n",
       "            </div>\n",
       "        "
      ],
      "text/plain": [
       "<pyspark.sql.session.SparkSession at 0x120fec410>"
      ]
     },
     "execution_count": 8,
     "metadata": {},
     "output_type": "execute_result"
    }
   ],
   "source": [
    "spark"
   ]
  },
  {
   "cell_type": "markdown",
   "metadata": {},
   "source": [
    "#### Load the data\n",
    "we can use spark.read to load jason/csv/txt etc."
   ]
  },
  {
   "cell_type": "code",
   "execution_count": 59,
   "metadata": {},
   "outputs": [],
   "source": [
    "data = spark.read.json('sparkify_log_small.json')"
   ]
  },
  {
   "cell_type": "code",
   "execution_count": 12,
   "metadata": {},
   "outputs": [
    {
     "data": {
      "text/plain": [
       "pyspark.sql.dataframe.DataFrame"
      ]
     },
     "execution_count": 12,
     "metadata": {},
     "output_type": "execute_result"
    }
   ],
   "source": [
    "# should return pyspark.sql.dataframe.DataFrame\n",
    "type(data)"
   ]
  },
  {
   "cell_type": "code",
   "execution_count": 11,
   "metadata": {},
   "outputs": [
    {
     "data": {
      "text/plain": [
       "DataFrame[artist: string, auth: string, firstName: string, gender: string, itemInSession: bigint, lastName: string, length: double, level: string, location: string, method: string, page: string, registration: bigint, sessionId: bigint, song: string, status: bigint, ts: bigint, userAgent: string, userId: string]"
      ]
     },
     "execution_count": 11,
     "metadata": {},
     "output_type": "execute_result"
    }
   ],
   "source": [
    "data"
   ]
  },
  {
   "cell_type": "code",
   "execution_count": 14,
   "metadata": {},
   "outputs": [
    {
     "name": "stdout",
     "output_type": "stream",
     "text": [
      "root\n",
      " |-- artist: string (nullable = true)\n",
      " |-- auth: string (nullable = true)\n",
      " |-- firstName: string (nullable = true)\n",
      " |-- gender: string (nullable = true)\n",
      " |-- itemInSession: long (nullable = true)\n",
      " |-- lastName: string (nullable = true)\n",
      " |-- length: double (nullable = true)\n",
      " |-- level: string (nullable = true)\n",
      " |-- location: string (nullable = true)\n",
      " |-- method: string (nullable = true)\n",
      " |-- page: string (nullable = true)\n",
      " |-- registration: long (nullable = true)\n",
      " |-- sessionId: long (nullable = true)\n",
      " |-- song: string (nullable = true)\n",
      " |-- status: long (nullable = true)\n",
      " |-- ts: long (nullable = true)\n",
      " |-- userAgent: string (nullable = true)\n",
      " |-- userId: string (nullable = true)\n",
      "\n"
     ]
    }
   ],
   "source": [
    "# retuns the cloumns and the format\n",
    "data.printSchema()"
   ]
  },
  {
   "cell_type": "code",
   "execution_count": 15,
   "metadata": {},
   "outputs": [
    {
     "data": {
      "text/plain": [
       "Row(artist='Showaddywaddy', auth='Logged In', firstName='Kenneth', gender='M', itemInSession=112, lastName='Matthews', length=232.93342, level='paid', location='Charlotte-Concord-Gastonia, NC-SC', method='PUT', page='NextSong', registration=1509380319284, sessionId=5132, song='Christmas Tears Will Fall', status=200, ts=1513720872284, userAgent='\"Mozilla/5.0 (Windows NT 6.1) AppleWebKit/537.36 (KHTML, like Gecko) Chrome/36.0.1985.125 Safari/537.36\"', userId='1046')"
      ]
     },
     "execution_count": 15,
     "metadata": {},
     "output_type": "execute_result"
    }
   ],
   "source": [
    "# shows the first row \n",
    "data.head()"
   ]
  },
  {
   "cell_type": "code",
   "execution_count": 13,
   "metadata": {},
   "outputs": [
    {
     "data": {
      "text/plain": [
       "[Row(artist='Showaddywaddy', auth='Logged In', firstName='Kenneth', gender='M', itemInSession=112, lastName='Matthews', length=232.93342, level='paid', location='Charlotte-Concord-Gastonia, NC-SC', method='PUT', page='NextSong', registration=1509380319284, sessionId=5132, song='Christmas Tears Will Fall', status=200, ts=1513720872284, userAgent='\"Mozilla/5.0 (Windows NT 6.1) AppleWebKit/537.36 (KHTML, like Gecko) Chrome/36.0.1985.125 Safari/537.36\"', userId='1046'),\n",
       " Row(artist='Lily Allen', auth='Logged In', firstName='Elizabeth', gender='F', itemInSession=7, lastName='Chase', length=195.23873, level='free', location='Shreveport-Bossier City, LA', method='PUT', page='NextSong', registration=1512718541284, sessionId=5027, song='Cheryl Tweedy', status=200, ts=1513720878284, userAgent='\"Mozilla/5.0 (Windows NT 6.1) AppleWebKit/537.36 (KHTML, like Gecko) Chrome/36.0.1985.143 Safari/537.36\"', userId='1000'),\n",
       " Row(artist='Cobra Starship Featuring Leighton Meester', auth='Logged In', firstName='Vera', gender='F', itemInSession=6, lastName='Blackwell', length=196.20526, level='paid', location='Racine, WI', method='PUT', page='NextSong', registration=1499855749284, sessionId=5516, song='Good Girls Go Bad (Feat.Leighton Meester) (Album Version)', status=200, ts=1513720881284, userAgent='\"Mozilla/5.0 (Macintosh; Intel Mac OS X 10_9_4) AppleWebKit/537.78.2 (KHTML, like Gecko) Version/7.0.6 Safari/537.78.2\"', userId='2219'),\n",
       " Row(artist='Alex Smoke', auth='Logged In', firstName='Sophee', gender='F', itemInSession=8, lastName='Barker', length=405.99465, level='paid', location='San Luis Obispo-Paso Robles-Arroyo Grande, CA', method='PUT', page='NextSong', registration=1513009647284, sessionId=2372, song=\"Don't See The Point\", status=200, ts=1513720905284, userAgent='\"Mozilla/5.0 (Windows NT 6.1; WOW64) AppleWebKit/537.36 (KHTML, like Gecko) Chrome/36.0.1985.143 Safari/537.36\"', userId='2373'),\n",
       " Row(artist=None, auth='Logged In', firstName='Jordyn', gender='F', itemInSession=0, lastName='Jones', length=None, level='free', location='Syracuse, NY', method='GET', page='Home', registration=1513648531284, sessionId=1746, song=None, status=200, ts=1513720913284, userAgent='\"Mozilla/5.0 (Macintosh; Intel Mac OS X 10_9_4) AppleWebKit/537.36 (KHTML, like Gecko) Chrome/37.0.2062.94 Safari/537.36\"', userId='1747')]"
      ]
     },
     "execution_count": 13,
     "metadata": {},
     "output_type": "execute_result"
    }
   ],
   "source": [
    "# shows n amount of rows \n",
    "data.take(5)"
   ]
  },
  {
   "cell_type": "code",
   "execution_count": 23,
   "metadata": {},
   "outputs": [
    {
     "data": {
      "text/plain": [
       "10000"
      ]
     },
     "execution_count": 23,
     "metadata": {},
     "output_type": "execute_result"
    }
   ],
   "source": [
    "# retutns the rows of the DataFrame\n",
    "data.count()"
   ]
  },
  {
   "cell_type": "code",
   "execution_count": 22,
   "metadata": {},
   "outputs": [
    {
     "name": "stdout",
     "output_type": "stream",
     "text": [
      "+-------+-----------------+\n",
      "|summary|           length|\n",
      "+-------+-----------------+\n",
      "|  count|             8347|\n",
      "|   mean|249.6486587492506|\n",
      "| stddev|95.00437130781461|\n",
      "|    min|          1.12281|\n",
      "|    max|        1806.8371|\n",
      "+-------+-----------------+\n",
      "\n"
     ]
    }
   ],
   "source": [
    "# returns the count, mean, std, min and max of a 'column'\n",
    "data.describe('length').show()"
   ]
  },
  {
   "cell_type": "code",
   "execution_count": 25,
   "metadata": {},
   "outputs": [
    {
     "data": {
      "text/plain": [
       "DataFrame[artist: string]"
      ]
     },
     "execution_count": 25,
     "metadata": {},
     "output_type": "execute_result"
    }
   ],
   "source": [
    "# select returns a new DataFrame \n",
    "data.select('artist') "
   ]
  },
  {
   "cell_type": "code",
   "execution_count": 27,
   "metadata": {},
   "outputs": [
    {
     "name": "stdout",
     "output_type": "stream",
     "text": [
      "+--------------------+\n",
      "|              artist|\n",
      "+--------------------+\n",
      "|       Showaddywaddy|\n",
      "|          Lily Allen|\n",
      "|Cobra Starship Fe...|\n",
      "|          Alex Smoke|\n",
      "|                null|\n",
      "|                null|\n",
      "|              Redman|\n",
      "|     Ulrich Schnauss|\n",
      "|                null|\n",
      "|                null|\n",
      "|               Jay-Z|\n",
      "|         Evanescence|\n",
      "|     Scissor Sisters|\n",
      "|        3 Doors Down|\n",
      "|       George Younce|\n",
      "|              Aly-Us|\n",
      "|                null|\n",
      "|            BjÃÂ¶rk|\n",
      "|      David Bromberg|\n",
      "|          Nickelback|\n",
      "+--------------------+\n",
      "only showing top 20 rows\n",
      "\n"
     ]
    }
   ],
   "source": [
    "# .show() lets use see the transformation\n",
    "data.select('artist').show()"
   ]
  },
  {
   "cell_type": "code",
   "execution_count": 29,
   "metadata": {},
   "outputs": [
    {
     "name": "stdout",
     "output_type": "stream",
     "text": [
      "+--------------------+\n",
      "|              artist|\n",
      "+--------------------+\n",
      "|      The Black Keys|\n",
      "|        STRATOVARIUS|\n",
      "|      The Chameleons|\n",
      "|Dashboard Confess...|\n",
      "|      Jarabe De Palo|\n",
      "|        Ziggy Marley|\n",
      "|        Yann Tiersen|\n",
      "|  The Watts Prophets|\n",
      "|            Goldfish|\n",
      "|           Kate Nash|\n",
      "|              DJ Taz|\n",
      "|    Jane's Addiction|\n",
      "|         Eva Cassidy|\n",
      "|               Rufio|\n",
      "|           Los Lobos|\n",
      "|         Silverstein|\n",
      "|        Rhett Miller|\n",
      "|              Nebula|\n",
      "|Yonder Mountain S...|\n",
      "|        Generation X|\n",
      "+--------------------+\n",
      "only showing top 20 rows\n",
      "\n"
     ]
    }
   ],
   "source": [
    "# only shows the unique values of the column artist\n",
    "data.select('artist').dropDuplicates().show()"
   ]
  },
  {
   "cell_type": "code",
   "execution_count": 32,
   "metadata": {},
   "outputs": [],
   "source": [
    "# lets query the DataFrame and show the Name and gender of a paid subscriber\n",
    "subscriber = data.select(['firstName', 'lastName', 'gender']).where(data.level == 'paid')"
   ]
  },
  {
   "cell_type": "code",
   "execution_count": 37,
   "metadata": {},
   "outputs": [
    {
     "data": {
      "text/plain": [
       "[Row(firstName='Kenneth', lastName='Matthews', gender='M'),\n",
       " Row(firstName='Vera', lastName='Blackwell', gender='F'),\n",
       " Row(firstName='Sophee', lastName='Barker', gender='F'),\n",
       " Row(firstName='Gabriel', lastName='Koch', gender='M'),\n",
       " Row(firstName='Mason', lastName='Thomas', gender='M'),\n",
       " Row(firstName='Micheal', lastName='Morgan', gender='M'),\n",
       " Row(firstName='Mason', lastName='Thomas', gender='M'),\n",
       " Row(firstName='Justin', lastName='Jones', gender='M'),\n",
       " Row(firstName='Zoie', lastName='Wright', gender='F'),\n",
       " Row(firstName='Vera', lastName='Blackwell', gender='F')]"
      ]
     },
     "execution_count": 37,
     "metadata": {},
     "output_type": "execute_result"
    }
   ],
   "source": [
    "# we have to use an action to trigger an output (lazy evaluation)\n",
    "subscriber.take(10)"
   ]
  },
  {
   "cell_type": "code",
   "execution_count": 40,
   "metadata": {},
   "outputs": [
    {
     "name": "stdout",
     "output_type": "stream",
     "text": [
      "+---------+---------+------+\n",
      "|firstName| lastName|gender|\n",
      "+---------+---------+------+\n",
      "|  Kenneth| Matthews|     M|\n",
      "|     Vera|Blackwell|     F|\n",
      "|   Sophee|   Barker|     F|\n",
      "|  Gabriel|     Koch|     M|\n",
      "|    Mason|   Thomas|     M|\n",
      "+---------+---------+------+\n",
      "only showing top 5 rows\n",
      "\n"
     ]
    }
   ],
   "source": [
    "subscriber.show(n=5)"
   ]
  },
  {
   "cell_type": "code",
   "execution_count": 38,
   "metadata": {},
   "outputs": [
    {
     "data": {
      "text/plain": [
       "[Row(firstName='Elizabeth', lastName='Chase', gender='F'),\n",
       " Row(firstName='Jordyn', lastName='Jones', gender='F'),\n",
       " Row(firstName='Jordyn', lastName='Jones', gender='F'),\n",
       " Row(firstName='Paige', lastName='Hunter', gender='F'),\n",
       " Row(firstName='Alexander', lastName='Short', gender='M')]"
      ]
     },
     "execution_count": 38,
     "metadata": {},
     "output_type": "execute_result"
    }
   ],
   "source": [
    "# you could also use .filter() for .where()\n",
    "data.select(['firstName', 'lastName', 'gender']).filter(data.level == 'free').take(5)"
   ]
  },
  {
   "cell_type": "code",
   "execution_count": 41,
   "metadata": {},
   "outputs": [
    {
     "name": "stdout",
     "output_type": "stream",
     "text": [
      "+------+-----+\n",
      "|gender|count|\n",
      "+------+-----+\n",
      "|     F| 3820|\n",
      "|  null|  336|\n",
      "|     M| 5844|\n",
      "+------+-----+\n",
      "\n"
     ]
    }
   ],
   "source": [
    "# lets check how many females and males are in the log data \n",
    "# we can use .grouBy() than the agg function .count() and finally .show() to see the result\n",
    "data.groupBy(data.gender).count().show()"
   ]
  },
  {
   "cell_type": "code",
   "execution_count": 45,
   "metadata": {},
   "outputs": [
    {
     "data": {
      "text/plain": [
       "DataFrame[summary: string, sessionId: string]"
      ]
     },
     "execution_count": 45,
     "metadata": {},
     "output_type": "execute_result"
    }
   ],
   "source": [
    "# we can transfrom variables into different types\n",
    "data.describe('sessionId')"
   ]
  },
  {
   "cell_type": "code",
   "execution_count": 50,
   "metadata": {},
   "outputs": [
    {
     "data": {
      "text/plain": [
       "Column<b'CAST(sessionId AS INT)'>"
      ]
     },
     "execution_count": 50,
     "metadata": {},
     "output_type": "execute_result"
    }
   ],
   "source": [
    "# .cast() is like astype()\n",
    "data.sessionId.cast('int')"
   ]
  },
  {
   "cell_type": "markdown",
   "metadata": {},
   "source": [
    "##### UDF (User defined functions)\n",
    "udf lets us create functions and apply them in the Spark DataFrame"
   ]
  },
  {
   "cell_type": "code",
   "execution_count": 51,
   "metadata": {},
   "outputs": [],
   "source": [
    "function = udf(lambda x: x *2)"
   ]
  },
  {
   "cell_type": "code",
   "execution_count": 60,
   "metadata": {},
   "outputs": [
    {
     "data": {
      "text/plain": [
       "Row(artist='Showaddywaddy', auth='Logged In', firstName='Kenneth', gender='M', itemInSession=112, lastName='Matthews', length=232.93342, level='paid', location='Charlotte-Concord-Gastonia, NC-SC', method='PUT', page='NextSong', registration=1509380319284, sessionId=5132, song='Christmas Tears Will Fall', status='400', ts=1513720872284, userAgent='\"Mozilla/5.0 (Windows NT 6.1) AppleWebKit/537.36 (KHTML, like Gecko) Chrome/36.0.1985.125 Safari/537.36\"', userId='1046')"
      ]
     },
     "execution_count": 60,
     "metadata": {},
     "output_type": "execute_result"
    }
   ],
   "source": [
    "# .witchColumn -> Returns a new DataFrame by adding a column or replacing the existing column that has the same name\n",
    "# status should be 400 now\n",
    "data.withColumn('status', function(data.status)).head()"
   ]
  },
  {
   "cell_type": "markdown",
   "metadata": {},
   "source": [
    "##### Remove missing values"
   ]
  },
  {
   "cell_type": "code",
   "execution_count": 66,
   "metadata": {},
   "outputs": [],
   "source": [
    "# we can choose between any and all\n",
    "# any = drop a row if it contains any nulls\n",
    "# all = drop a row only if all its values are null\n",
    "data_clean = data.dropna(how='any')"
   ]
  },
  {
   "cell_type": "code",
   "execution_count": 70,
   "metadata": {},
   "outputs": [],
   "source": [
    "# we can also specify certain rules for dropping missing values\n",
    "# in this case we would drop empty strings in user\n",
    "data_clean = data_clean.where(data.userId != '')"
   ]
  },
  {
   "cell_type": "code",
   "execution_count": 74,
   "metadata": {},
   "outputs": [
    {
     "name": "stdout",
     "output_type": "stream",
     "text": [
      "+------+\n",
      "|userID|\n",
      "+------+\n",
      "+------+\n",
      "\n"
     ]
    }
   ],
   "source": [
    "# the output should be empty\n",
    "data_clean.select('userID').where(data.userId == '').show()"
   ]
  },
  {
   "cell_type": "markdown",
   "metadata": {},
   "source": [
    "#### Spark SQL\n",
    "To use SQL in Spark, a temporary view must be created after creating a SparkSession and loading the data"
   ]
  },
  {
   "cell_type": "code",
   "execution_count": 76,
   "metadata": {},
   "outputs": [],
   "source": [
    "data.createOrReplaceTempView('data_sql')"
   ]
  },
  {
   "cell_type": "code",
   "execution_count": 78,
   "metadata": {},
   "outputs": [
    {
     "name": "stdout",
     "output_type": "stream",
     "text": [
      "+---------+--------+------+\n",
      "|firstName|lastName|gender|\n",
      "+---------+--------+------+\n",
      "|  Kenneth|Matthews|     M|\n",
      "|Elizabeth|   Chase|     F|\n",
      "+---------+--------+------+\n",
      "\n"
     ]
    }
   ],
   "source": [
    "# now we can run normal sql queries\n",
    "# although we use sql we still have to call an action after the query  \n",
    "spark.sql('SELECT firstName, lastName, gender FROM data_sql LIMIT 2').show()"
   ]
  },
  {
   "cell_type": "markdown",
   "metadata": {},
   "source": [
    "UDFs can also be used with the SQL API. Lets get the datetime from the timestamp 'ts'"
   ]
  },
  {
   "cell_type": "code",
   "execution_count": 82,
   "metadata": {},
   "outputs": [
    {
     "name": "stdout",
     "output_type": "stream",
     "text": [
      "+-------------+\n",
      "|           ts|\n",
      "+-------------+\n",
      "|1513720872284|\n",
      "|1513720878284|\n",
      "|1513720881284|\n",
      "|1513720905284|\n",
      "|1513720913284|\n",
      "+-------------+\n",
      "\n"
     ]
    }
   ],
   "source": [
    "spark.sql('SELECT ts FROM data_sql LIMIT 5').show()"
   ]
  },
  {
   "cell_type": "code",
   "execution_count": 85,
   "metadata": {},
   "outputs": [
    {
     "data": {
      "text/plain": [
       "<function __main__.<lambda>(x)>"
      ]
     },
     "execution_count": 85,
     "metadata": {},
     "output_type": "execute_result"
    }
   ],
   "source": [
    "# to use the udf we need to register it\n",
    "# the function has the name 'get_hour'\n",
    "spark.udf.register('get_hour', lambda x: int(dt.datetime.fromtimestamp(x/1000.0).hour))"
   ]
  },
  {
   "cell_type": "code",
   "execution_count": 89,
   "metadata": {},
   "outputs": [
    {
     "data": {
      "text/plain": [
       "Row(artist='Showaddywaddy', auth='Logged In', firstName='Kenneth', gender='M', itemInSession=112, lastName='Matthews', length=232.93342, level='paid', location='Charlotte-Concord-Gastonia, NC-SC', method='PUT', page='NextSong', registration=1509380319284, sessionId=5132, song='Christmas Tears Will Fall', status=200, ts=1513720872284, userAgent='\"Mozilla/5.0 (Windows NT 6.1) AppleWebKit/537.36 (KHTML, like Gecko) Chrome/36.0.1985.125 Safari/537.36\"', userId='1046', hour='23')"
      ]
     },
     "execution_count": 89,
     "metadata": {},
     "output_type": "execute_result"
    }
   ],
   "source": [
    "# now we use 'get_hour' and place timestamp (ts) in its ()\n",
    "spark.sql('SELECT *, get_hour(ts) AS hour FROM data_sql LIMIT 10').head()"
   ]
  },
  {
   "cell_type": "markdown",
   "metadata": {},
   "source": [
    "> with .toPandas() at the end we could save the output directly into a pandas DataFrame"
   ]
  },
  {
   "cell_type": "markdown",
   "metadata": {},
   "source": [
    "#### Transfrom the Spark DataFrame into a pandas DataFrame\n",
    "after we used spark to access data on a distributed system that would be to large for pandas and made some adjustments to it and extract only the relevnat informations, we can transform a Spark DataFrame into a pandas DataFrame."
   ]
  },
  {
   "cell_type": "code",
   "execution_count": 42,
   "metadata": {},
   "outputs": [],
   "source": [
    "pd_df = data.toPandas() "
   ]
  },
  {
   "cell_type": "code",
   "execution_count": 44,
   "metadata": {},
   "outputs": [
    {
     "data": {
      "text/html": [
       "<div>\n",
       "<style scoped>\n",
       "    .dataframe tbody tr th:only-of-type {\n",
       "        vertical-align: middle;\n",
       "    }\n",
       "\n",
       "    .dataframe tbody tr th {\n",
       "        vertical-align: top;\n",
       "    }\n",
       "\n",
       "    .dataframe thead th {\n",
       "        text-align: right;\n",
       "    }\n",
       "</style>\n",
       "<table border=\"1\" class=\"dataframe\">\n",
       "  <thead>\n",
       "    <tr style=\"text-align: right;\">\n",
       "      <th></th>\n",
       "      <th>artist</th>\n",
       "      <th>auth</th>\n",
       "      <th>firstName</th>\n",
       "      <th>gender</th>\n",
       "      <th>itemInSession</th>\n",
       "      <th>lastName</th>\n",
       "      <th>length</th>\n",
       "      <th>level</th>\n",
       "      <th>location</th>\n",
       "      <th>method</th>\n",
       "      <th>page</th>\n",
       "      <th>registration</th>\n",
       "      <th>sessionId</th>\n",
       "      <th>song</th>\n",
       "      <th>status</th>\n",
       "      <th>ts</th>\n",
       "      <th>userAgent</th>\n",
       "      <th>userId</th>\n",
       "    </tr>\n",
       "  </thead>\n",
       "  <tbody>\n",
       "    <tr>\n",
       "      <td>0</td>\n",
       "      <td>Showaddywaddy</td>\n",
       "      <td>Logged In</td>\n",
       "      <td>Kenneth</td>\n",
       "      <td>M</td>\n",
       "      <td>112</td>\n",
       "      <td>Matthews</td>\n",
       "      <td>232.93342</td>\n",
       "      <td>paid</td>\n",
       "      <td>Charlotte-Concord-Gastonia, NC-SC</td>\n",
       "      <td>PUT</td>\n",
       "      <td>NextSong</td>\n",
       "      <td>1.509380e+12</td>\n",
       "      <td>5132</td>\n",
       "      <td>Christmas Tears Will Fall</td>\n",
       "      <td>200</td>\n",
       "      <td>1513720872284</td>\n",
       "      <td>\"Mozilla/5.0 (Windows NT 6.1) AppleWebKit/537....</td>\n",
       "      <td>1046</td>\n",
       "    </tr>\n",
       "    <tr>\n",
       "      <td>1</td>\n",
       "      <td>Lily Allen</td>\n",
       "      <td>Logged In</td>\n",
       "      <td>Elizabeth</td>\n",
       "      <td>F</td>\n",
       "      <td>7</td>\n",
       "      <td>Chase</td>\n",
       "      <td>195.23873</td>\n",
       "      <td>free</td>\n",
       "      <td>Shreveport-Bossier City, LA</td>\n",
       "      <td>PUT</td>\n",
       "      <td>NextSong</td>\n",
       "      <td>1.512719e+12</td>\n",
       "      <td>5027</td>\n",
       "      <td>Cheryl Tweedy</td>\n",
       "      <td>200</td>\n",
       "      <td>1513720878284</td>\n",
       "      <td>\"Mozilla/5.0 (Windows NT 6.1) AppleWebKit/537....</td>\n",
       "      <td>1000</td>\n",
       "    </tr>\n",
       "    <tr>\n",
       "      <td>2</td>\n",
       "      <td>Cobra Starship Featuring Leighton Meester</td>\n",
       "      <td>Logged In</td>\n",
       "      <td>Vera</td>\n",
       "      <td>F</td>\n",
       "      <td>6</td>\n",
       "      <td>Blackwell</td>\n",
       "      <td>196.20526</td>\n",
       "      <td>paid</td>\n",
       "      <td>Racine, WI</td>\n",
       "      <td>PUT</td>\n",
       "      <td>NextSong</td>\n",
       "      <td>1.499856e+12</td>\n",
       "      <td>5516</td>\n",
       "      <td>Good Girls Go Bad (Feat.Leighton Meester) (Alb...</td>\n",
       "      <td>200</td>\n",
       "      <td>1513720881284</td>\n",
       "      <td>\"Mozilla/5.0 (Macintosh; Intel Mac OS X 10_9_4...</td>\n",
       "      <td>2219</td>\n",
       "    </tr>\n",
       "    <tr>\n",
       "      <td>3</td>\n",
       "      <td>Alex Smoke</td>\n",
       "      <td>Logged In</td>\n",
       "      <td>Sophee</td>\n",
       "      <td>F</td>\n",
       "      <td>8</td>\n",
       "      <td>Barker</td>\n",
       "      <td>405.99465</td>\n",
       "      <td>paid</td>\n",
       "      <td>San Luis Obispo-Paso Robles-Arroyo Grande, CA</td>\n",
       "      <td>PUT</td>\n",
       "      <td>NextSong</td>\n",
       "      <td>1.513010e+12</td>\n",
       "      <td>2372</td>\n",
       "      <td>Don't See The Point</td>\n",
       "      <td>200</td>\n",
       "      <td>1513720905284</td>\n",
       "      <td>\"Mozilla/5.0 (Windows NT 6.1; WOW64) AppleWebK...</td>\n",
       "      <td>2373</td>\n",
       "    </tr>\n",
       "    <tr>\n",
       "      <td>4</td>\n",
       "      <td>None</td>\n",
       "      <td>Logged In</td>\n",
       "      <td>Jordyn</td>\n",
       "      <td>F</td>\n",
       "      <td>0</td>\n",
       "      <td>Jones</td>\n",
       "      <td>NaN</td>\n",
       "      <td>free</td>\n",
       "      <td>Syracuse, NY</td>\n",
       "      <td>GET</td>\n",
       "      <td>Home</td>\n",
       "      <td>1.513649e+12</td>\n",
       "      <td>1746</td>\n",
       "      <td>None</td>\n",
       "      <td>200</td>\n",
       "      <td>1513720913284</td>\n",
       "      <td>\"Mozilla/5.0 (Macintosh; Intel Mac OS X 10_9_4...</td>\n",
       "      <td>1747</td>\n",
       "    </tr>\n",
       "  </tbody>\n",
       "</table>\n",
       "</div>"
      ],
      "text/plain": [
       "                                      artist       auth  firstName gender  \\\n",
       "0                              Showaddywaddy  Logged In    Kenneth      M   \n",
       "1                                 Lily Allen  Logged In  Elizabeth      F   \n",
       "2  Cobra Starship Featuring Leighton Meester  Logged In       Vera      F   \n",
       "3                                 Alex Smoke  Logged In     Sophee      F   \n",
       "4                                       None  Logged In     Jordyn      F   \n",
       "\n",
       "   itemInSession   lastName     length level  \\\n",
       "0            112   Matthews  232.93342  paid   \n",
       "1              7      Chase  195.23873  free   \n",
       "2              6  Blackwell  196.20526  paid   \n",
       "3              8     Barker  405.99465  paid   \n",
       "4              0      Jones        NaN  free   \n",
       "\n",
       "                                        location method      page  \\\n",
       "0              Charlotte-Concord-Gastonia, NC-SC    PUT  NextSong   \n",
       "1                    Shreveport-Bossier City, LA    PUT  NextSong   \n",
       "2                                     Racine, WI    PUT  NextSong   \n",
       "3  San Luis Obispo-Paso Robles-Arroyo Grande, CA    PUT  NextSong   \n",
       "4                                   Syracuse, NY    GET      Home   \n",
       "\n",
       "   registration  sessionId                                               song  \\\n",
       "0  1.509380e+12       5132                          Christmas Tears Will Fall   \n",
       "1  1.512719e+12       5027                                      Cheryl Tweedy   \n",
       "2  1.499856e+12       5516  Good Girls Go Bad (Feat.Leighton Meester) (Alb...   \n",
       "3  1.513010e+12       2372                                Don't See The Point   \n",
       "4  1.513649e+12       1746                                               None   \n",
       "\n",
       "   status             ts                                          userAgent  \\\n",
       "0     200  1513720872284  \"Mozilla/5.0 (Windows NT 6.1) AppleWebKit/537....   \n",
       "1     200  1513720878284  \"Mozilla/5.0 (Windows NT 6.1) AppleWebKit/537....   \n",
       "2     200  1513720881284  \"Mozilla/5.0 (Macintosh; Intel Mac OS X 10_9_4...   \n",
       "3     200  1513720905284  \"Mozilla/5.0 (Windows NT 6.1; WOW64) AppleWebK...   \n",
       "4     200  1513720913284  \"Mozilla/5.0 (Macintosh; Intel Mac OS X 10_9_4...   \n",
       "\n",
       "  userId  \n",
       "0   1046  \n",
       "1   1000  \n",
       "2   2219  \n",
       "3   2373  \n",
       "4   1747  "
      ]
     },
     "execution_count": 44,
     "metadata": {},
     "output_type": "execute_result"
    }
   ],
   "source": [
    "pd_df.head()"
   ]
  },
  {
   "cell_type": "code",
   "execution_count": null,
   "metadata": {},
   "outputs": [],
   "source": []
  }
 ],
 "metadata": {
  "kernelspec": {
   "display_name": "Python 3",
   "language": "python",
   "name": "python3"
  },
  "language_info": {
   "codemirror_mode": {
    "name": "ipython",
    "version": 3
   },
   "file_extension": ".py",
   "mimetype": "text/x-python",
   "name": "python",
   "nbconvert_exporter": "python",
   "pygments_lexer": "ipython3",
   "version": "3.7.4"
  }
 },
 "nbformat": 4,
 "nbformat_minor": 4
}
