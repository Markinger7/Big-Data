{
 "cells": [
  {
   "cell_type": "markdown",
   "metadata": {},
   "source": [
    "# PySpark DecisionTrees\n",
    "\n",
    "- <a href='https://spark.apache.org/docs/latest/ml-classification-regression.html#decision-tree-classifier'>Link</a> to `DecisionTreeClassifier`\n",
    "- <a href='https://spark.apache.org/docs/latest/ml-classification-regression.html#random-forest-classifier'>Link</a> to `RandomForestClassifier`\n",
    "- <a href='https://spark.apache.org/docs/latest/ml-classification-regression.html#gradient-boosted-tree-classifier'>Link</a> to `GBTClassifier`\n",
    "\n",
    "\n",
    "## Content\n",
    "1. [Predict if a college is private or public](#coll)\n",
    "2. [Feature importance](#importance)"
   ]
  },
  {
   "cell_type": "code",
   "execution_count": 1,
   "metadata": {},
   "outputs": [],
   "source": [
    "# find spark\n",
    "import findspark\n",
    "findspark.init()"
   ]
  },
  {
   "cell_type": "code",
   "execution_count": 2,
   "metadata": {},
   "outputs": [],
   "source": [
    "# imports\n",
    "from pyspark.sql import SparkSession\n",
    "from pyspark.ml.classification import DecisionTreeClassifier, RandomForestClassifier, GBTClassifier\n",
    "from pyspark.ml.evaluation import MulticlassClassificationEvaluator\n",
    "from pyspark.ml.feature import VectorAssembler, StringIndexer"
   ]
  },
  {
   "cell_type": "code",
   "execution_count": 3,
   "metadata": {},
   "outputs": [],
   "source": [
    "# init spark session\n",
    "spark = SparkSession.builder.appName('trees').getOrCreate()"
   ]
  },
  {
   "cell_type": "markdown",
   "metadata": {},
   "source": [
    "<a id='coll'></a>\n",
    "## 1. Predict if a college is private or public"
   ]
  },
  {
   "cell_type": "code",
   "execution_count": 4,
   "metadata": {},
   "outputs": [],
   "source": [
    "# load data\n",
    "data = spark.read.csv('data/College.csv', inferSchema=True, header=True)"
   ]
  },
  {
   "cell_type": "code",
   "execution_count": 5,
   "metadata": {},
   "outputs": [
    {
     "name": "stdout",
     "output_type": "stream",
     "text": [
      "root\n",
      " |-- School: string (nullable = true)\n",
      " |-- Private: string (nullable = true)\n",
      " |-- Apps: integer (nullable = true)\n",
      " |-- Accept: integer (nullable = true)\n",
      " |-- Enroll: integer (nullable = true)\n",
      " |-- Top10perc: integer (nullable = true)\n",
      " |-- Top25perc: integer (nullable = true)\n",
      " |-- F_Undergrad: integer (nullable = true)\n",
      " |-- P_Undergrad: integer (nullable = true)\n",
      " |-- Outstate: integer (nullable = true)\n",
      " |-- Room_Board: integer (nullable = true)\n",
      " |-- Books: integer (nullable = true)\n",
      " |-- Personal: integer (nullable = true)\n",
      " |-- PhD: integer (nullable = true)\n",
      " |-- Terminal: integer (nullable = true)\n",
      " |-- S_F_Ratio: double (nullable = true)\n",
      " |-- perc_alumni: integer (nullable = true)\n",
      " |-- Expend: integer (nullable = true)\n",
      " |-- Grad_Rate: integer (nullable = true)\n",
      "\n"
     ]
    }
   ],
   "source": [
    "data.printSchema()"
   ]
  },
  {
   "cell_type": "code",
   "execution_count": 6,
   "metadata": {},
   "outputs": [
    {
     "name": "stdout",
     "output_type": "stream",
     "text": [
      "+--------------------+-------+----+------+------+---------+---------+-----------+-----------+--------+----------+-----+--------+---+--------+---------+-----------+------+---------+\n",
      "|              School|Private|Apps|Accept|Enroll|Top10perc|Top25perc|F_Undergrad|P_Undergrad|Outstate|Room_Board|Books|Personal|PhD|Terminal|S_F_Ratio|perc_alumni|Expend|Grad_Rate|\n",
      "+--------------------+-------+----+------+------+---------+---------+-----------+-----------+--------+----------+-----+--------+---+--------+---------+-----------+------+---------+\n",
      "|Abilene Christian...|    Yes|1660|  1232|   721|       23|       52|       2885|        537|    7440|      3300|  450|    2200| 70|      78|     18.1|         12|  7041|       60|\n",
      "|  Adelphi University|    Yes|2186|  1924|   512|       16|       29|       2683|       1227|   12280|      6450|  750|    1500| 29|      30|     12.2|         16| 10527|       56|\n",
      "|      Adrian College|    Yes|1428|  1097|   336|       22|       50|       1036|         99|   11250|      3750|  400|    1165| 53|      66|     12.9|         30|  8735|       54|\n",
      "| Agnes Scott College|    Yes| 417|   349|   137|       60|       89|        510|         63|   12960|      5450|  450|     875| 92|      97|      7.7|         37| 19016|       59|\n",
      "|Alaska Pacific Un...|    Yes| 193|   146|    55|       16|       44|        249|        869|    7560|      4120|  800|    1500| 76|      72|     11.9|          2| 10922|       15|\n",
      "|   Albertson College|    Yes| 587|   479|   158|       38|       62|        678|         41|   13500|      3335|  500|     675| 67|      73|      9.4|         11|  9727|       55|\n",
      "|Albertus Magnus C...|    Yes| 353|   340|   103|       17|       45|        416|        230|   13290|      5720|  500|    1500| 90|      93|     11.5|         26|  8861|       63|\n",
      "|      Albion College|    Yes|1899|  1720|   489|       37|       68|       1594|         32|   13868|      4826|  450|     850| 89|     100|     13.7|         37| 11487|       73|\n",
      "|    Albright College|    Yes|1038|   839|   227|       30|       63|        973|        306|   15595|      4400|  300|     500| 79|      84|     11.3|         23| 11644|       80|\n",
      "|Alderson-Broaddus...|    Yes| 582|   498|   172|       21|       44|        799|         78|   10468|      3380|  660|    1800| 40|      41|     11.5|         15|  8991|       52|\n",
      "|   Alfred University|    Yes|1732|  1425|   472|       37|       75|       1830|        110|   16548|      5406|  500|     600| 82|      88|     11.3|         31| 10932|       73|\n",
      "|   Allegheny College|    Yes|2652|  1900|   484|       44|       77|       1707|         44|   17080|      4440|  400|     600| 73|      91|      9.9|         41| 11711|       76|\n",
      "|Allentown Coll. o...|    Yes|1179|   780|   290|       38|       64|       1130|        638|    9690|      4785|  600|    1000| 60|      84|     13.3|         21|  7940|       74|\n",
      "|        Alma College|    Yes|1267|  1080|   385|       44|       73|       1306|         28|   12572|      4552|  400|     400| 79|      87|     15.3|         32|  9305|       68|\n",
      "|     Alverno College|    Yes| 494|   313|   157|       23|       46|       1317|       1235|    8352|      3640|  650|    2449| 36|      69|     11.1|         26|  8127|       55|\n",
      "|American Internat...|    Yes|1420|  1093|   220|        9|       22|       1018|        287|    8700|      4780|  450|    1400| 78|      84|     14.7|         19|  7355|       69|\n",
      "|     Amherst College|    Yes|4302|   992|   418|       83|       96|       1593|          5|   19760|      5300|  660|    1598| 93|      98|      8.4|         63| 21424|      100|\n",
      "| Anderson University|    Yes|1216|   908|   423|       19|       40|       1819|        281|   10100|      3520|  550|    1100| 48|      61|     12.1|         14|  7994|       59|\n",
      "|  Andrews University|    Yes|1130|   704|   322|       14|       23|       1586|        326|    9996|      3090|  900|    1320| 62|      66|     11.5|         18| 10908|       46|\n",
      "|Angelo State Univ...|     No|3540|  2001|  1016|       24|       54|       4190|       1512|    5130|      3592|  500|    2000| 60|      62|     23.1|          5|  4010|       34|\n",
      "+--------------------+-------+----+------+------+---------+---------+-----------+-----------+--------+----------+-----+--------+---+--------+---------+-----------+------+---------+\n",
      "only showing top 20 rows\n",
      "\n"
     ]
    }
   ],
   "source": [
    "data.show()"
   ]
  },
  {
   "cell_type": "markdown",
   "metadata": {},
   "source": [
    "We just need to use the `StringIndexer` on Private"
   ]
  },
  {
   "cell_type": "code",
   "execution_count": 7,
   "metadata": {},
   "outputs": [],
   "source": [
    "# StringIndexer on Private\n",
    "indexer = StringIndexer(inputCol='Private', outputCol='Privateidx')\n",
    "model = indexer.fit(data)\n",
    "data = model.transform(data)"
   ]
  },
  {
   "cell_type": "code",
   "execution_count": 8,
   "metadata": {},
   "outputs": [
    {
     "name": "stdout",
     "output_type": "stream",
     "text": [
      "+-------+----------+\n",
      "|Private|Privateidx|\n",
      "+-------+----------+\n",
      "|    Yes|       0.0|\n",
      "|    Yes|       0.0|\n",
      "|    Yes|       0.0|\n",
      "|    Yes|       0.0|\n",
      "|    Yes|       0.0|\n",
      "|    Yes|       0.0|\n",
      "|    Yes|       0.0|\n",
      "|    Yes|       0.0|\n",
      "|    Yes|       0.0|\n",
      "|    Yes|       0.0|\n",
      "|    Yes|       0.0|\n",
      "|    Yes|       0.0|\n",
      "|    Yes|       0.0|\n",
      "|    Yes|       0.0|\n",
      "|    Yes|       0.0|\n",
      "|    Yes|       0.0|\n",
      "|    Yes|       0.0|\n",
      "|    Yes|       0.0|\n",
      "|    Yes|       0.0|\n",
      "|     No|       1.0|\n",
      "+-------+----------+\n",
      "only showing top 20 rows\n",
      "\n"
     ]
    }
   ],
   "source": [
    "# in our case 0 = Yes and 1 = No\n",
    "data.select('Private', 'Privateidx').show()"
   ]
  },
  {
   "cell_type": "code",
   "execution_count": 9,
   "metadata": {},
   "outputs": [],
   "source": [
    "# create featue vector\n",
    "assambler = VectorAssembler(inputCols=['Apps', 'Accept', 'Enroll', 'Top10perc', 'Top25perc', 'F_Undergrad','P_Undergrad',\n",
    "                           'Outstate', 'Room_Board', 'Books', 'Personal', 'PhD', 'Terminal', 'S_F_Ratio',\n",
    "                           'perc_alumni', 'Expend', 'Grad_Rate'],\n",
    "                outputCol= 'features')\n",
    "\n",
    "data = assambler.transform(data)\n",
    "\n",
    "# only select the relevant columns\n",
    "final_data = data.select('features', 'Privateidx')\n",
    "\n",
    "# split data in train and test\n",
    "train, test = final_data.randomSplit([0.7, 0.3])"
   ]
  },
  {
   "cell_type": "code",
   "execution_count": 10,
   "metadata": {},
   "outputs": [],
   "source": [
    "# create models\n",
    "dt = DecisionTreeClassifier(labelCol='Privateidx')    \n",
    "rf = RandomForestClassifier(labelCol='Privateidx')\n",
    "gbc = GBTClassifier(labelCol='Privateidx')"
   ]
  },
  {
   "cell_type": "code",
   "execution_count": 11,
   "metadata": {},
   "outputs": [],
   "source": [
    "# fit on training data\n",
    "model_dt = dt.fit(train)\n",
    "model_rf = rf.fit(train)\n",
    "model_gbc = gbc.fit(train)"
   ]
  },
  {
   "cell_type": "code",
   "execution_count": 12,
   "metadata": {},
   "outputs": [],
   "source": [
    "# make predictions\n",
    "preds_dt = model_dt.transform(test)\n",
    "preds_rf = model_rf.transform(test)\n",
    "preds_gbc = model_gbc.transform(test)"
   ]
  },
  {
   "cell_type": "code",
   "execution_count": 21,
   "metadata": {},
   "outputs": [
    {
     "name": "stdout",
     "output_type": "stream",
     "text": [
      "+--------------------+----------+-------------+--------------------+----------+\n",
      "|            features|Privateidx|rawPrediction|         probability|prediction|\n",
      "+--------------------+----------+-------------+--------------------+----------+\n",
      "|[81.0,72.0,51.0,3...|       0.0|  [294.0,1.0]|[0.99661016949152...|       0.0|\n",
      "|[141.0,118.0,55.0...|       0.0|  [294.0,1.0]|[0.99661016949152...|       0.0|\n",
      "|[152.0,128.0,75.0...|       0.0|  [294.0,1.0]|[0.99661016949152...|       0.0|\n",
      "|[212.0,197.0,91.0...|       0.0|  [294.0,1.0]|[0.99661016949152...|       0.0|\n",
      "|[232.0,182.0,99.0...|       0.0|    [2.0,4.0]|[0.33333333333333...|       1.0|\n",
      "|[244.0,198.0,82.0...|       0.0|  [294.0,1.0]|[0.99661016949152...|       0.0|\n",
      "|[268.0,253.0,103....|       0.0|  [294.0,1.0]|[0.99661016949152...|       0.0|\n",
      "|[279.0,276.0,126....|       0.0|    [2.0,4.0]|[0.33333333333333...|       1.0|\n",
      "|[291.0,245.0,126....|       0.0|  [294.0,1.0]|[0.99661016949152...|       0.0|\n",
      "|[292.0,241.0,96.0...|       0.0|  [294.0,1.0]|[0.99661016949152...|       0.0|\n",
      "+--------------------+----------+-------------+--------------------+----------+\n",
      "only showing top 10 rows\n",
      "\n",
      "None\n",
      "+--------------------+----------+--------------------+--------------------+----------+\n",
      "|            features|Privateidx|       rawPrediction|         probability|prediction|\n",
      "+--------------------+----------+--------------------+--------------------+----------+\n",
      "|[81.0,72.0,51.0,3...|       0.0|[19.0132212894991...|[0.95066106447495...|       0.0|\n",
      "|[141.0,118.0,55.0...|       0.0|[19.7018770781549...|[0.98509385390774...|       0.0|\n",
      "|[152.0,128.0,75.0...|       0.0|[19.6283769205121...|[0.98141884602560...|       0.0|\n",
      "|[212.0,197.0,91.0...|       0.0|[19.8377826930079...|[0.99188913465039...|       0.0|\n",
      "|[232.0,182.0,99.0...|       0.0|[17.5161146375558...|[0.87580573187779...|       0.0|\n",
      "|[244.0,198.0,82.0...|       0.0|[19.7590259841031...|[0.98795129920515...|       0.0|\n",
      "|[268.0,253.0,103....|       0.0|[19.8933382485634...|[0.99466691242817...|       0.0|\n",
      "|[279.0,276.0,126....|       0.0|[18.2062814613020...|[0.91031407306510...|       0.0|\n",
      "|[291.0,245.0,126....|       0.0|[19.3013442678203...|[0.96506721339101...|       0.0|\n",
      "|[292.0,241.0,96.0...|       0.0|[19.8933382485634...|[0.99466691242817...|       0.0|\n",
      "+--------------------+----------+--------------------+--------------------+----------+\n",
      "only showing top 10 rows\n",
      "\n",
      "None\n",
      "+--------------------+----------+--------------------+--------------------+----------+\n",
      "|            features|Privateidx|       rawPrediction|         probability|prediction|\n",
      "+--------------------+----------+--------------------+--------------------+----------+\n",
      "|[81.0,72.0,51.0,3...|       0.0|[1.54076605996378...|[0.95612450264129...|       0.0|\n",
      "|[141.0,118.0,55.0...|       0.0|[1.12769562481081...|[0.90511455978402...|       0.0|\n",
      "|[152.0,128.0,75.0...|       0.0|[1.50499658758393...|[0.95302354877721...|       0.0|\n",
      "|[212.0,197.0,91.0...|       0.0|[1.53685300402800...|[0.95579501935105...|       0.0|\n",
      "|[232.0,182.0,99.0...|       0.0|[-0.1279412861204...|[0.43637613115142...|       1.0|\n",
      "|[244.0,198.0,82.0...|       0.0|[1.53931256843248...|[0.95600239160162...|       0.0|\n",
      "|[268.0,253.0,103....|       0.0|[1.53685300402800...|[0.95579501935105...|       0.0|\n",
      "|[279.0,276.0,126....|       0.0|[-0.2198536379836...|[0.39181072174078...|       1.0|\n",
      "|[291.0,245.0,126....|       0.0|[1.54190834663041...|[0.95622024168697...|       0.0|\n",
      "|[292.0,241.0,96.0...|       0.0|[1.53685300402800...|[0.95579501935105...|       0.0|\n",
      "+--------------------+----------+--------------------+--------------------+----------+\n",
      "only showing top 10 rows\n",
      "\n",
      "None\n"
     ]
    }
   ],
   "source": [
    "model_list = [preds_dt, preds_rf, preds_gbc]\n",
    "\n",
    "for model in model_list:\n",
    "    print(model.show(10))"
   ]
  },
  {
   "cell_type": "code",
   "execution_count": 30,
   "metadata": {},
   "outputs": [
    {
     "name": "stdout",
     "output_type": "stream",
     "text": [
      "DecisionTree :\n",
      "0.9421487603305785\n",
      "##############################\n",
      "RandomForest :\n",
      "0.9297520661157025\n",
      "##############################\n",
      "Gradient-boosted tree :\n",
      "0.9545454545454546\n",
      "##############################\n"
     ]
    }
   ],
   "source": [
    "# creat evaluator\n",
    "evaluator = MulticlassClassificationEvaluator(labelCol='Privateidx', predictionCol='prediction', \n",
    "                                              metricName='accuracy')\n",
    "\n",
    "# for loop to loop through each model\n",
    "model_names = ['DecisionTree', 'RandomForest', 'Gradient-boosted tree']\n",
    "for model, name in zip(model_list, model_names):\n",
    "    accuracy = evaluator.evaluate(model)\n",
    "    print(name, ':')\n",
    "    print(accuracy)\n",
    "    print('#'*30)"
   ]
  },
  {
   "cell_type": "markdown",
   "metadata": {},
   "source": [
    "Gradient-boosted tree scored the best"
   ]
  },
  {
   "cell_type": "markdown",
   "metadata": {},
   "source": [
    "<a id='importance'></a>\n",
    "## 2. Feature Importance\n",
    "A dog food company hired us to identify which combination of chemicals lead to a spoils product.\n",
    "\n",
    "Task: get the feature importance of each chemical\n",
    "\n",
    "Data:\n",
    "- A: share of chemical a\n",
    "- B: share of chemical b\n",
    "- C: share of chemical c\n",
    "- D: share of chemical d\n",
    "- Spoiled: indicates whether the pack of dog food has gone bad."
   ]
  },
  {
   "cell_type": "code",
   "execution_count": 13,
   "metadata": {},
   "outputs": [],
   "source": [
    "data = spark.read.csv('data/dog_food.csv', inferSchema=True, header=True)"
   ]
  },
  {
   "cell_type": "code",
   "execution_count": 5,
   "metadata": {},
   "outputs": [
    {
     "name": "stdout",
     "output_type": "stream",
     "text": [
      "root\n",
      " |-- A: integer (nullable = true)\n",
      " |-- B: integer (nullable = true)\n",
      " |-- C: double (nullable = true)\n",
      " |-- D: integer (nullable = true)\n",
      " |-- Spoiled: double (nullable = true)\n",
      "\n"
     ]
    }
   ],
   "source": [
    "data.printSchema()"
   ]
  },
  {
   "cell_type": "code",
   "execution_count": 8,
   "metadata": {},
   "outputs": [
    {
     "name": "stdout",
     "output_type": "stream",
     "text": [
      "+---+---+----+---+-------+\n",
      "|  A|  B|   C|  D|Spoiled|\n",
      "+---+---+----+---+-------+\n",
      "|  4|  2|12.0|  3|    1.0|\n",
      "|  5|  6|12.0|  7|    1.0|\n",
      "|  6|  2|13.0|  6|    1.0|\n",
      "|  4|  2|12.0|  1|    1.0|\n",
      "|  4|  2|12.0|  3|    1.0|\n",
      "+---+---+----+---+-------+\n",
      "only showing top 5 rows\n",
      "\n"
     ]
    }
   ],
   "source": [
    "data.show(5)"
   ]
  },
  {
   "cell_type": "code",
   "execution_count": 14,
   "metadata": {},
   "outputs": [],
   "source": [
    "assambler = VectorAssembler(inputCols=['A', 'B', 'C', 'D'],\n",
    "                            outputCol='features')\n",
    "data = assambler.transform(data)"
   ]
  },
  {
   "cell_type": "code",
   "execution_count": 17,
   "metadata": {},
   "outputs": [],
   "source": [
    "final_data = data.select('features', 'Spoiled')"
   ]
  },
  {
   "cell_type": "code",
   "execution_count": 19,
   "metadata": {},
   "outputs": [
    {
     "name": "stdout",
     "output_type": "stream",
     "text": [
      "+------------------+-------+\n",
      "|          features|Spoiled|\n",
      "+------------------+-------+\n",
      "|[4.0,2.0,12.0,3.0]|    1.0|\n",
      "|[5.0,6.0,12.0,7.0]|    1.0|\n",
      "|[6.0,2.0,13.0,6.0]|    1.0|\n",
      "|[4.0,2.0,12.0,1.0]|    1.0|\n",
      "|[4.0,2.0,12.0,3.0]|    1.0|\n",
      "+------------------+-------+\n",
      "only showing top 5 rows\n",
      "\n"
     ]
    }
   ],
   "source": [
    "final_data.show(5)"
   ]
  },
  {
   "cell_type": "code",
   "execution_count": 20,
   "metadata": {},
   "outputs": [],
   "source": [
    "# define random forest\n",
    "rf = RandomForestClassifier(labelCol='Spoiled')\n",
    "model_rf = rf.fit(final_data)"
   ]
  },
  {
   "cell_type": "code",
   "execution_count": 23,
   "metadata": {},
   "outputs": [
    {
     "data": {
      "text/plain": [
       "SparseVector(4, {0: 0.0185, 1: 0.0175, 2: 0.9449, 3: 0.0191})"
      ]
     },
     "execution_count": 23,
     "metadata": {},
     "output_type": "execute_result"
    }
   ],
   "source": [
    "model_rf.featureImportances"
   ]
  },
  {
   "cell_type": "markdown",
   "metadata": {},
   "source": [
    "### Answer\n",
    "chemical c most certainly leads to the spoiled dog food "
   ]
  },
  {
   "cell_type": "markdown",
   "metadata": {},
   "source": [
    "## Resources\n",
    "- Udemy course "
   ]
  },
  {
   "cell_type": "code",
   "execution_count": null,
   "metadata": {},
   "outputs": [],
   "source": []
  }
 ],
 "metadata": {
  "kernelspec": {
   "display_name": "Python 3",
   "language": "python",
   "name": "python3"
  },
  "language_info": {
   "codemirror_mode": {
    "name": "ipython",
    "version": 3
   },
   "file_extension": ".py",
   "mimetype": "text/x-python",
   "name": "python",
   "nbconvert_exporter": "python",
   "pygments_lexer": "ipython3",
   "version": "3.8.3"
  }
 },
 "nbformat": 4,
 "nbformat_minor": 4
}
