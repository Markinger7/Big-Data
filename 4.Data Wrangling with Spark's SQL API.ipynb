{
 "cells": [
  {
   "cell_type": "markdown",
   "metadata": {},
   "source": [
    "## Wrangle Data with Spark's SQL API\n",
    "\n",
    "This notebook will use Spark in local mode to demonstarate spark's SQL API for Data Wrangling. I will use a dataset provided by Udacity, which can be found in the free Spark course. It contains the log data from the fictional music streaming service 'sparkify'"
   ]
  },
  {
   "cell_type": "code",
   "execution_count": 1,
   "metadata": {},
   "outputs": [],
   "source": [
    "from pyspark.sql import SparkSession\n",
    "from pyspark.sql.functions import udf\n",
    "from pyspark.sql.types import StringType, IntegerType\n",
    "from pyspark.sql.functions import desc, asc\n",
    "from pyspark.sql.functions import sum as Fsum\n",
    "\n",
    "import datetime as dt\n",
    "\n",
    "import numpy as np\n",
    "import pandas as pd\n",
    "%matplotlib inline\n",
    "import matplotlib.pyplot as plt"
   ]
  },
  {
   "cell_type": "code",
   "execution_count": 2,
   "metadata": {},
   "outputs": [],
   "source": [
    "# initiate a Spark Session to have access to the top level SQL API \n",
    "spark = SparkSession \\\n",
    "    .builder \\\n",
    "    .appName(\"Data wrangling with Spark SQL\") \\\n",
    "    .getOrCreate()"
   ]
  },
  {
   "cell_type": "code",
   "execution_count": 10,
   "metadata": {},
   "outputs": [],
   "source": [
    "log_data = spark.read.json('sparkify_log_small.json')"
   ]
  },
  {
   "cell_type": "code",
   "execution_count": 11,
   "metadata": {},
   "outputs": [
    {
     "name": "stdout",
     "output_type": "stream",
     "text": [
      "root\n",
      " |-- artist: string (nullable = true)\n",
      " |-- auth: string (nullable = true)\n",
      " |-- firstName: string (nullable = true)\n",
      " |-- gender: string (nullable = true)\n",
      " |-- itemInSession: long (nullable = true)\n",
      " |-- lastName: string (nullable = true)\n",
      " |-- length: double (nullable = true)\n",
      " |-- level: string (nullable = true)\n",
      " |-- location: string (nullable = true)\n",
      " |-- method: string (nullable = true)\n",
      " |-- page: string (nullable = true)\n",
      " |-- registration: long (nullable = true)\n",
      " |-- sessionId: long (nullable = true)\n",
      " |-- song: string (nullable = true)\n",
      " |-- status: long (nullable = true)\n",
      " |-- ts: long (nullable = true)\n",
      " |-- userAgent: string (nullable = true)\n",
      " |-- userId: string (nullable = true)\n",
      "\n"
     ]
    }
   ],
   "source": [
    "log_data.printSchema()"
   ]
  },
  {
   "cell_type": "markdown",
   "metadata": {},
   "source": [
    "### Create a View And Run Queries\n",
    "\n",
    "To run SQL queries we need to creat a temporate view of the DataFrame"
   ]
  },
  {
   "cell_type": "code",
   "execution_count": 12,
   "metadata": {},
   "outputs": [],
   "source": [
    "log_data.createOrReplaceTempView('log_data_table')"
   ]
  },
  {
   "cell_type": "code",
   "execution_count": 14,
   "metadata": {},
   "outputs": [
    {
     "name": "stdout",
     "output_type": "stream",
     "text": [
      "+--------+\n",
      "|count(1)|\n",
      "+--------+\n",
      "|   10000|\n",
      "+--------+\n",
      "\n"
     ]
    }
   ],
   "source": [
    "# how many rows are in the table\n",
    "spark.sql('''\n",
    "        SELECT COUNT(*)\n",
    "        FROM log_data_table\n",
    "''').show()"
   ]
  },
  {
   "cell_type": "code",
   "execution_count": 16,
   "metadata": {},
   "outputs": [
    {
     "name": "stdout",
     "output_type": "stream",
     "text": [
      "+-------------+---------+---------+------+-------------+--------+---------+-----+--------------------+------+--------+-------------+---------+--------------------+------+-------------+--------------------+------+\n",
      "|       artist|     auth|firstName|gender|itemInSession|lastName|   length|level|            location|method|    page| registration|sessionId|                song|status|           ts|           userAgent|userId|\n",
      "+-------------+---------+---------+------+-------------+--------+---------+-----+--------------------+------+--------+-------------+---------+--------------------+------+-------------+--------------------+------+\n",
      "|Showaddywaddy|Logged In|  Kenneth|     M|          112|Matthews|232.93342| paid|Charlotte-Concord...|   PUT|NextSong|1509380319284|     5132|Christmas Tears W...|   200|1513720872284|\"Mozilla/5.0 (Win...|  1046|\n",
      "+-------------+---------+---------+------+-------------+--------+---------+-----+--------------------+------+--------+-------------+---------+--------------------+------+-------------+--------------------+------+\n",
      "\n"
     ]
    }
   ],
   "source": [
    "# show the first row of data\n",
    "spark.sql('''\n",
    "        SELECT *\n",
    "        FROM log_data_table\n",
    "        LIMIT 1\n",
    "''').show()"
   ]
  },
  {
   "cell_type": "code",
   "execution_count": 18,
   "metadata": {},
   "outputs": [
    {
     "name": "stdout",
     "output_type": "stream",
     "text": [
      "+----------------+\n",
      "|            page|\n",
      "+----------------+\n",
      "|           About|\n",
      "|       Downgrade|\n",
      "|           Error|\n",
      "|            Help|\n",
      "|            Home|\n",
      "|           Login|\n",
      "|          Logout|\n",
      "|        NextSong|\n",
      "|   Save Settings|\n",
      "|        Settings|\n",
      "|Submit Downgrade|\n",
      "|  Submit Upgrade|\n",
      "|         Upgrade|\n",
      "+----------------+\n",
      "\n"
     ]
    }
   ],
   "source": [
    "# show the different pages \n",
    "spark.sql('''\n",
    "        SELECT DISTINCT(page)\n",
    "        FROM log_data_table\n",
    "        ORDER BY page ASC\n",
    "''').show()"
   ]
  },
  {
   "cell_type": "markdown",
   "metadata": {},
   "source": [
    "#### Get datetime from timestamp\n",
    "to get the datetime from a SQL query, we can use UDFs, which we have to register"
   ]
  },
  {
   "cell_type": "code",
   "execution_count": 35,
   "metadata": {},
   "outputs": [
    {
     "data": {
      "text/plain": [
       "<function __main__.<lambda>(x)>"
      ]
     },
     "execution_count": 35,
     "metadata": {},
     "output_type": "execute_result"
    }
   ],
   "source": [
    "spark.udf.register('get_hour', lambda x: int(dt.datetime.fromtimestamp(x / 1000.0).hour))\n",
    "spark.udf.register('get_day_of_week', lambda x: dt.datetime.fromtimestamp(x / 1000.0).strftime('%a'))"
   ]
  },
  {
   "cell_type": "code",
   "execution_count": 43,
   "metadata": {},
   "outputs": [],
   "source": [
    "songs_per_hour = spark.sql('''\n",
    "                    SELECT get_hour(ts) AS hour, COUNT(*) AS plays_per_hour\n",
    "                    FROM log_data_table\n",
    "                    WHERE page = 'NextSong'\n",
    "                    GROUP BY hour\n",
    "                    ORDER BY cast(hour as int) ASC\n",
    "''')"
   ]
  },
  {
   "cell_type": "code",
   "execution_count": 44,
   "metadata": {},
   "outputs": [],
   "source": [
    "songs_per_day = spark.sql('''\n",
    "                    SELECT get_day_of_week(ts) AS day, COUNT(*) AS plays_per_hour\n",
    "                    FROM log_data_table\n",
    "                    WHERE page = 'NextSong'\n",
    "                    GROUP BY day\n",
    "''')"
   ]
  },
  {
   "cell_type": "code",
   "execution_count": 45,
   "metadata": {},
   "outputs": [
    {
     "name": "stdout",
     "output_type": "stream",
     "text": [
      "+----+--------------+\n",
      "|hour|plays_per_hour|\n",
      "+----+--------------+\n",
      "|   0|           375|\n",
      "|   1|           456|\n",
      "|   2|           454|\n",
      "|   3|           382|\n",
      "|   4|           302|\n",
      "|   5|           352|\n",
      "|   6|           276|\n",
      "|   7|           348|\n",
      "|   8|           358|\n",
      "|   9|           375|\n",
      "|  10|           249|\n",
      "|  11|           216|\n",
      "|  12|           228|\n",
      "|  13|           251|\n",
      "|  14|           339|\n",
      "|  15|           462|\n",
      "|  16|           479|\n",
      "|  17|           484|\n",
      "|  18|           430|\n",
      "|  19|           362|\n",
      "+----+--------------+\n",
      "only showing top 20 rows\n",
      "\n"
     ]
    }
   ],
   "source": [
    "songs_per_hour.show()"
   ]
  },
  {
   "cell_type": "code",
   "execution_count": 38,
   "metadata": {},
   "outputs": [
    {
     "name": "stdout",
     "output_type": "stream",
     "text": [
      "+---+--------------+\n",
      "|day|plays_per_hour|\n",
      "+---+--------------+\n",
      "|Thu|          2071|\n",
      "|Wed|          6071|\n",
      "|Tue|           205|\n",
      "+---+--------------+\n",
      "\n"
     ]
    }
   ],
   "source": [
    "songs_per_day.show()"
   ]
  },
  {
   "cell_type": "code",
   "execution_count": 46,
   "metadata": {},
   "outputs": [],
   "source": [
    "# transfrom outout to pandas DataFrame to visualize it\n",
    "pd_songs_per_hour = songs_per_hour.toPandas()\n",
    "pd_songs_per_day = songs_per_day.toPandas()"
   ]
  },
  {
   "cell_type": "code",
   "execution_count": 49,
   "metadata": {},
   "outputs": [
    {
     "data": {
      "image/png": "[encoded data removed]",
      "text/plain": [
       "<Figure size 864x288 with 2 Axes>"
      ]
     },
     "metadata": {
      "needs_background": "light"
     },
     "output_type": "display_data"
    }
   ],
   "source": [
    "day_order = ['Tue', 'Wed', 'Thu']\n",
    "\n",
    "plt.subplots(figsize=(12,4))\n",
    "\n",
    "plt.subplot(1,2,1)\n",
    "plt.scatter(pd_songs_per_hour['hour'], pd_songs_per_hour['plays_per_hour'])\n",
    "plt.ylim(0, 550)\n",
    "plt.title('songs per hour')\n",
    "\n",
    "plt.subplot(1,2,2)\n",
    "plt.bar(pd_songs_per_day['day'], pd_songs_per_day['plays_per_hour'])\n",
    "plt.xticks(range(3), day_order)\n",
    "plt.title('songs per day');"
   ]
  },
  {
   "cell_type": "markdown",
   "metadata": {},
   "source": [
    "### Questions\n",
    "1. Which page did user id \"\" (empty string) NOT visit?\n",
    "2. Why might you prefer to use SQL over data frames? Why might you prefer data frames over SQL?\n",
    "3. How many female users do we have in the data set?\n",
    "4. How many songs were played from the most played artist?"
   ]
  },
  {
   "cell_type": "markdown",
   "metadata": {},
   "source": [
    "#### 1. Which page did user id \"\" (empty string) NOT visit?"
   ]
  },
  {
   "cell_type": "code",
   "execution_count": 57,
   "metadata": {},
   "outputs": [
    {
     "name": "stdout",
     "output_type": "stream",
     "text": [
      "+-----+----------------+\n",
      "| page|            page|\n",
      "+-----+----------------+\n",
      "| null|Submit Downgrade|\n",
      "| Home|            Home|\n",
      "| null|       Downgrade|\n",
      "| null|          Logout|\n",
      "| null|   Save Settings|\n",
      "|About|           About|\n",
      "| null|        Settings|\n",
      "|Login|           Login|\n",
      "| null|        NextSong|\n",
      "| Help|            Help|\n",
      "| null|         Upgrade|\n",
      "| null|           Error|\n",
      "| null|  Submit Upgrade|\n",
      "+-----+----------------+\n",
      "\n"
     ]
    }
   ],
   "source": [
    "# full outer join\n",
    "spark.sql('''\n",
    "    SELECT *\n",
    "    FROM (\n",
    "        SELECT DISTINCT page\n",
    "        FROM log_data_table\n",
    "        WHERE userId = '') as user_pages\n",
    "    FULL OUTER JOIN (\n",
    "        SELECT DISTINCT page\n",
    "        FROM log_data_table) as all_pages\n",
    "    ON user_pages.page = all_pages.page\n",
    "''').show()"
   ]
  },
  {
   "cell_type": "code",
   "execution_count": 61,
   "metadata": {},
   "outputs": [
    {
     "name": "stdout",
     "output_type": "stream",
     "text": [
      "+----+----------------+\n",
      "|page|            page|\n",
      "+----+----------------+\n",
      "|null|Submit Downgrade|\n",
      "|null|       Downgrade|\n",
      "|null|          Logout|\n",
      "|null|   Save Settings|\n",
      "|null|        Settings|\n",
      "|null|        NextSong|\n",
      "|null|         Upgrade|\n",
      "|null|           Error|\n",
      "|null|  Submit Upgrade|\n",
      "+----+----------------+\n",
      "\n"
     ]
    }
   ],
   "source": [
    "# right join \n",
    "spark.sql('''\n",
    "    SELECT *\n",
    "    FROM (\n",
    "        SELECT DISTINCT page\n",
    "        FROM log_data_table\n",
    "        WHERE userId = '') as user_pages\n",
    "    RIGHT JOIN (\n",
    "        SELECT DISTINCT page\n",
    "        FROM log_data_table) as all_pages\n",
    "    ON user_pages.page = all_pages.page\n",
    "    WHERE user_pages.page IS NULL\n",
    "''').show()"
   ]
  },
  {
   "cell_type": "markdown",
   "metadata": {},
   "source": [
    "#### 2. Why might you prefer to use SQL over data frames? Why might you prefer data frames over SQL?\n",
    "Both Spark SQL and Spark Data Frames are part of the Spark SQL library. Hence, they both use the Spark SQL Catalyst Optimizer to optimize queries. \n",
    "\n",
    "You might prefer SQL over data frames because the syntax is clearer especially for teams already experienced in SQL.\n",
    "\n",
    "Spark data frames give you more control. You can break down your queries into smaller steps, which can make debugging easier. You can also [cache](https://unraveldata.com/to-cache-or-not-to-cache/) intermediate results or [repartition](https://hackernoon.com/managing-spark-partitions-with-coalesce-and-repartition-4050c57ad5c4) intermediate results."
   ]
  },
  {
   "cell_type": "markdown",
   "metadata": {},
   "source": [
    "#### 3. How many female users do we have in the data set?"
   ]
  },
  {
   "cell_type": "code",
   "execution_count": 71,
   "metadata": {},
   "outputs": [
    {
     "name": "stdout",
     "output_type": "stream",
     "text": [
      "+-------+\n",
      "|females|\n",
      "+-------+\n",
      "|    462|\n",
      "+-------+\n",
      "\n"
     ]
    }
   ],
   "source": [
    "spark.sql('''\n",
    "    SELECT COUNT(DISTINCT userId) AS females\n",
    "    FROM log_data_table\n",
    "    WHERE gender = 'F'\n",
    "''').show()"
   ]
  },
  {
   "cell_type": "markdown",
   "metadata": {},
   "source": [
    "#### 4. How many songs were played from the most played artist?"
   ]
  },
  {
   "cell_type": "code",
   "execution_count": 81,
   "metadata": {},
   "outputs": [
    {
     "name": "stdout",
     "output_type": "stream",
     "text": [
      "+--------+---------------+\n",
      "|  artist|number_of_plays|\n",
      "+--------+---------------+\n",
      "|Coldplay|             83|\n",
      "+--------+---------------+\n",
      "\n"
     ]
    }
   ],
   "source": [
    "spark.sql('''\n",
    "    SELECT artist, COUNT(artist) AS number_of_plays\n",
    "    FROM log_data_table\n",
    "    WHERE page = 'NextSong'\n",
    "    GROUP BY artist\n",
    "    ORDER BY number_of_plays DESC\n",
    "    LIMIT 1\n",
    "''').show()"
   ]
  },
  {
   "cell_type": "code",
   "execution_count": null,
   "metadata": {},
   "outputs": [],
   "source": []
  }
 ],
 "metadata": {
  "kernelspec": {
   "display_name": "Python 3",
   "language": "python",
   "name": "python3"
  },
  "language_info": {
   "codemirror_mode": {
    "name": "ipython",
    "version": 3
   },
   "file_extension": ".py",
   "mimetype": "text/x-python",
   "name": "python",
   "nbconvert_exporter": "python",
   "pygments_lexer": "ipython3",
   "version": "3.7.4"
  }
 },
 "nbformat": 4,
 "nbformat_minor": 4
}
